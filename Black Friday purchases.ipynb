{
 "cells": [
  {
   "cell_type": "markdown",
   "id": "6ac5f47c-ba3c-4503-a190-e6070fab46f4",
   "metadata": {},
   "source": [
    "# Black Friday Purchases Analysis | Walmart"
   ]
  },
  {
   "cell_type": "markdown",
   "id": "7f8ea49e-c6f7-4784-b90c-9736a7d4079d",
   "metadata": {},
   "source": [
    "## Objective \n",
    "\n",
    "The notebook aims to analyze customer purchase behavior, particularly focusing on the purchase amount in relation to the customer's gender and other influencing factors. The goal is to provide insights that can help the management team at Walmart Inc. make more informed business decisions. Specifically, the goal is to understand whether the spending habits differ between male and female customers:\n",
    "  - Do women spend more on Black Friday than men? "
   ]
  },
  {
   "cell_type": "markdown",
   "id": "e310c325-9012-4091-9483-4265027b3974",
   "metadata": {},
   "source": [
    "### Table of Content\n",
    "  - [Exploratory Data Analysis](#Exploratory-Data-Analysis)\n",
    "      - [Data Overview](#Data-Overview)\n",
    "      - [Finding Unique Values](#Finding-Unique-Values)\n",
    "      - [Data Cleaning](#Data-Cleaning)\n",
    "      - [Statistical Summary](#Statistical-Summary)\n",
    "          - [Observations from Analysis](#Observations-from-Analysis)\n",
    "          - [Missing & Duplicate Value Detection](#Missing-and-duplicate-value-detection)\n",
    "- [Data Visualization](#Data-Visualization)\n",
    "    - [Numerical Feature](#Numerical-Features)\n",
    "    - [Categorical Features](#Categorical-Features)\n",
    "    - [Purchase & Our Features](#Purchase-&-Our-Features)\n",
    "- [Data Analysis](#Data-Analysis)\n",
    "- [Final Insights](#Insights)\n",
    "    - [Actionable Insights](#So?)\n",
    "    - [Recommendations](#Recommendations)\n"
   ]
  },
  {
   "cell_type": "markdown",
   "id": "d7f26892-5d1a-4c0f-a856-a71a79a880d4",
   "metadata": {},
   "source": [
    "## Exploratory Data Analysis"
   ]
  },
  {
   "cell_type": "code",
   "execution_count": null,
   "id": "09642dc7-fb4c-4e8d-b403-1a11b2906300",
   "metadata": {},
   "outputs": [],
   "source": [
    "import numpy as np\n",
    "import pandas as pd\n",
    "import matplotlib.pyplot as plt\n",
    "%matplotlib inline\n",
    "import seaborn as sns\n",
    "sns.set(color_codes = True)\n",
    "import scipy.stats as stats\n",
    "from scipy.stats import norm\n",
    "import warnings\n",
    "warnings.filterwarnings(\"ignore\")"
   ]
  },
  {
   "cell_type": "code",
   "execution_count": null,
   "id": "780bcc79-4a8d-4460-8183-ea4d5f6cd053",
   "metadata": {},
   "outputs": [],
   "source": [
    "walmart_df = pd.read_csv(\"walmart_data.csv\")"
   ]
  },
  {
   "cell_type": "markdown",
   "id": "90f663b5-507b-483e-878b-8026de9f3e10",
   "metadata": {},
   "source": [
    "### Data Overview\n",
    "Taking a look at the first and last few rows to see how the data looks like"
   ]
  },
  {
   "cell_type": "code",
   "execution_count": null,
   "id": "c7272cda-1e45-43d9-ae79-07c5f32c7e92",
   "metadata": {},
   "outputs": [],
   "source": [
    "walmart_df.head()"
   ]
  },
  {
   "cell_type": "code",
   "execution_count": null,
   "id": "e748f4e6-d3bd-40c1-a50c-1c960366b783",
   "metadata": {},
   "outputs": [],
   "source": [
    "walmart_df.tail()"
   ]
  },
  {
   "cell_type": "code",
   "execution_count": null,
   "id": "272754ac-48d8-4edd-bea0-031cc5c623c3",
   "metadata": {},
   "outputs": [],
   "source": [
    "#shape of the dataframe (rows, columns) \n",
    "walmart_df.shape"
   ]
  },
  {
   "cell_type": "code",
   "execution_count": null,
   "id": "61ec8b9c-06a8-4849-abb2-9fdb9daa73c5",
   "metadata": {},
   "outputs": [],
   "source": [
    "# column names in the dataframe \n",
    "walmart_df.columns"
   ]
  },
  {
   "cell_type": "markdown",
   "id": "7c724aba-8ccd-4b4a-b995-f46cedcf6abf",
   "metadata": {},
   "source": [
    "### Finding Unique Values\n",
    "Having a look at the unique values will help understand how varied the dataset is."
   ]
  },
  {
   "cell_type": "code",
   "execution_count": null,
   "id": "6c5d9b17-61be-4547-b4b6-8f139173799c",
   "metadata": {},
   "outputs": [],
   "source": [
    "def summarize_unique_values(df, max_display=10):\n",
    "    \"\"\"\n",
    "    Summarizes unique values for each column in a DataFrame.\n",
    "    \n",
    "    \"\"\"\n",
    "    for column in df.columns:\n",
    "        try:\n",
    "            unique_count = df[column].nunique()\n",
    "            unique_values = df[column].unique()\n",
    "            \n",
    "            print(f\"\\nColumn: {column}\")\n",
    "            print(f\"  Type: {df[column].dtype}\")\n",
    "            print(f\"  Unique Count: {unique_count}\")\n",
    "            \n",
    "            if unique_count <= max_display:\n",
    "                print(f\"  Unique Values: {unique_values}\")\n",
    "            else:\n",
    "                print(f\"  First {max_display} Unique Values: {unique_values[:max_display]}\")\n",
    "                print(f\"  ... and {unique_count - max_display} more unique values.\")\n",
    "        except Exception as e:\n",
    "            print(f\"Error processing column {column}: {e}\")\n",
    "\n",
    "# Example usage\n",
    "summarize_unique_values(walmart_df)\n"
   ]
  },
  {
   "cell_type": "markdown",
   "id": "e52854a5-b9a8-4071-9729-67f9a2a400b4",
   "metadata": {},
   "source": [
    "## Data Cleaning\n",
    " For better analysis, some adjustments need to be carried out. For example, the plus sign symbol in the column 'Stay_In_Current_City_Years' should be removed and the column itself should accommodate a numeric value."
   ]
  },
  {
   "cell_type": "code",
   "execution_count": null,
   "id": "abe34cd9-8d13-4f98-abcf-2c341aba3a85",
   "metadata": {},
   "outputs": [],
   "source": [
    "walmart_df.Stay_In_Current_City_Years.unique()\n"
   ]
  },
  {
   "cell_type": "code",
   "execution_count": null,
   "id": "62630a6c-01b2-440d-993e-6efe9b5da126",
   "metadata": {},
   "outputs": [],
   "source": [
    "walmart_df.Stay_In_Current_City_Years.unique()\n"
   ]
  },
  {
   "cell_type": "code",
   "execution_count": null,
   "id": "73b73ab1-b257-4db3-bde8-facc0cbe1fdc",
   "metadata": {},
   "outputs": [],
   "source": [
    "# Removing \"+\" symbol\n",
    "walmart_df.Stay_In_Current_City_Years=walmart_df.Stay_In_Current_City_Years.str.replace(\"+\",\"\")"
   ]
  },
  {
   "cell_type": "code",
   "execution_count": null,
   "id": "46d9d0bf-1b4d-466a-be69-0954793a141a",
   "metadata": {},
   "outputs": [],
   "source": [
    "# As '+' symbols have already been removed, it is time to change its data type\n",
    "walmart_df['Stay_In_Current_City_Years'] = pd.to_numeric(walmart_df['Stay_In_Current_City_Years'])"
   ]
  },
  {
   "cell_type": "markdown",
   "id": "f49cbd5f-dee4-4bf7-b4c1-471e44106b2d",
   "metadata": {},
   "source": [
    "## Statistical Summary"
   ]
  },
  {
   "cell_type": "markdown",
   "id": "840b25b2-5547-42f9-b927-e8c8f5003b1c",
   "metadata": {},
   "source": [
    "In this section, various statistics of the data will be examined, including the mean, standard deviation, minimum, and maximum values. This will provide a good idea of the overall distribution and range of the data. Before this analysis, data types that are numerical will be selected."
   ]
  },
  {
   "cell_type": "code",
   "execution_count": null,
   "id": "ea3bc991-4e11-4187-970e-9930c3a5b622",
   "metadata": {},
   "outputs": [],
   "source": [
    "walmart_df.select_dtypes(include=['int64']).skew()"
   ]
  },
  {
   "cell_type": "markdown",
   "id": "24a07a1a-ee67-4c2e-90bb-f7f58fcb0f00",
   "metadata": {},
   "source": [
    "###### Product_Category skewness of 1.03 suggests most products fall into fewer categories, with some rare outliers."
   ]
  },
  {
   "cell_type": "code",
   "execution_count": null,
   "id": "1e658b48-de22-4f58-8fa1-c69b3af5a5a9",
   "metadata": {},
   "outputs": [],
   "source": [
    "walmart_df.describe(include = 'all')"
   ]
  },
  {
   "cell_type": "markdown",
   "id": "29ef4eb4-23f0-4acb-acd3-9967630e3e3e",
   "metadata": {},
   "source": [
    "### Observations from Analysis\n",
    "- The dataset is observed to contain no missing values.\n",
    "\n",
    "- The 26–35 age group is identified as having made the highest number of purchases (219,587), surpassing other age groups.\n",
    "\n",
    "- Customers from City_Category B are observed to have made the most purchases (231,173), compared to other city categories.\n",
    "\n",
    "- Among the 550,000 data points, 414,259 records belong to males, while the remainder represents females.\n",
    "\n",
    "- The minimum recorded purchase amount is noted to be $12.\n",
    "\n",
    "- The maximum recorded purchase amount is identified as $23,961.\n",
    "\n",
    "- Potential outliers are suggested to be present in the purchase data."
   ]
  },
  {
   "cell_type": "markdown",
   "id": "7b5ea166-4433-4b91-a7a1-b52ef68714a3",
   "metadata": {},
   "source": [
    "### Missing and duplicate value detection\n",
    "Both missing and duplicate values can impact the analysis, making it essential to identify their presence. "
   ]
  },
  {
   "cell_type": "code",
   "execution_count": null,
   "id": "692d15bc-7d9e-4e11-b8ce-044193f5749f",
   "metadata": {},
   "outputs": [],
   "source": [
    "# General info about the dataset\n",
    "walmart_df.info()\n",
    "print('% of nulls\\n', walmart_df.isna().sum()/len(walmart_df))"
   ]
  },
  {
   "cell_type": "code",
   "execution_count": null,
   "id": "2af91afd-6ef6-4c3d-8162-793122df8fd1",
   "metadata": {},
   "outputs": [],
   "source": [
    "walmart_df.duplicated(subset=None,keep='first').sum() # 0 indicates no duplicate values in the dataset"
   ]
  },
  {
   "cell_type": "markdown",
   "id": "6d84797f-1a9f-4486-9fe7-356c05bc37ca",
   "metadata": {},
   "source": [
    "## Data Visualization"
   ]
  },
  {
   "cell_type": "markdown",
   "id": "b7bae9dd-ab83-4adb-9f42-8428a91c861a",
   "metadata": {},
   "source": [
    "### Numerical Features"
   ]
  },
  {
   "cell_type": "markdown",
   "id": "30fe00ae-2728-4d46-81fe-e6321e8697b7",
   "metadata": {},
   "source": [
    " In this section, visual representations of the numerical data will be created, including graphs that display the distributions of features such as occupation, years in the current city, marital status, and purchase amounts. These graphs provide a clearer view of patterns and trends, making it easier to interpret the data compared to examining numbers alone."
   ]
  },
  {
   "cell_type": "code",
   "execution_count": null,
   "id": "b7f7f6ed-07de-4c72-9e19-0211cd9b8780",
   "metadata": {},
   "outputs": [],
   "source": [
    "# Setting up a 2x2 grid of subplots\n",
    "fig, axis = plt.subplots(nrows=2, ncols=2, figsize=(12, 10))\n",
    "fig.subplots_adjust(top=0.9)  # Adjusting the spacing at the top of the subplots\n",
    "\n",
    "# Generating distribution plots for each specified column\n",
    "sns.distplot(walmart_df['Occupation'], kde=True, ax=axis[0,0], color=\"#900000\")\n",
    "sns.distplot(walmart_df['Stay_In_Current_City_Years'].astype(int), kde=True, ax=axis[0,1], color=\"#900000\")\n",
    "sns.distplot(walmart_df['Marital_Status'], kde=True, ax=axis[1,0], color=\"#900000\")\n",
    "\n",
    "# Plotting the distribution of the 'Purchase' variable with a normal curve fit\n",
    "sns.distplot(walmart_df['Purchase'], ax=axis[1,1], color=\"#900000\", fit=norm)\n",
    "\n",
    "# Fitting the 'Purchase' data to a normal distribution curve\n",
    "mu, sigma = norm.fit(walmart_df['Purchase']) \n",
    "print(f\"The mean (μ) is {mu:.2f} and the standard deviation (σ) is {sigma:.2f} for the normal distribution.\")\n",
    "\n",
    "# Adding a legend for the 'Purchase' distribution plot\n",
    "axis[1,1].legend([f'Normal Distribution (μ = {mu:.2f}, σ = {sigma:.2f})'], loc='best')\n",
    "\n",
    "# Displaying the plots\n",
    "plt.show()\n"
   ]
  },
  {
   "cell_type": "code",
   "execution_count": null,
   "id": "8a90c7c7-b9a7-4a87-9e01-f16bf2a5539c",
   "metadata": {},
   "outputs": [],
   "source": []
  },
  {
   "cell_type": "code",
   "execution_count": null,
   "id": "380b21d0-14f4-4354-bc48-e1b13c31d287",
   "metadata": {
    "scrolled": true
   },
   "outputs": [],
   "source": [
    "import plotly.graph_objects as go\n",
    "from plotly.subplots import make_subplots\n",
    "# Creating subplots with specific titles\n",
    "fig = make_subplots(\n",
    "    rows=4, cols=2,\n",
    "    subplot_titles=(\"Gender\", \"Age\", \"Occupation\", \"City Category\",\n",
    "                    \"Stay In Current City Years\", \"Marital Status\", \"Product Category\", \"Purchase\")\n",
    ")\n",
    "\n",
    "# Adding histograms for each subplot\n",
    "fig.add_trace(go.Histogram(x=walmart_df['Gender']), row=1, col=1)\n",
    "fig.add_trace(go.Histogram(x=walmart_df['Age']), row=1, col=2)\n",
    "fig.add_trace(go.Histogram(x=walmart_df['Occupation']), row=2, col=1)\n",
    "fig.add_trace(go.Histogram(x=walmart_df['City_Category']), row=2, col=2)\n",
    "fig.add_trace(go.Histogram(x=walmart_df['Stay_In_Current_City_Years']), row=3, col=1)\n",
    "fig.add_trace(go.Histogram(x=walmart_df['Marital_Status']), row=3, col=2)\n",
    "fig.add_trace(go.Histogram(x=walmart_df['Product_Category']), row=4, col=1)\n",
    "fig.add_trace(go.Histogram(x=walmart_df['Purchase']), row=4, col=2)\n",
    "\n",
    "# Updating layout for better visualization\n",
    "fig.update_layout(\n",
    "    height=1200, \n",
    "    width=1000, \n",
    "    title_text=\"Count Plots\", \n",
    "    showlegend=False  # Hiding the legend if unnecessary\n",
    ")\n",
    "\n",
    "# Displaying the figure\n",
    "fig.show()\n"
   ]
  },
  {
   "cell_type": "markdown",
   "id": "bcc961d6-7075-4304-bf0b-213c203b2d43",
   "metadata": {},
   "source": [
    "### Observations \n",
    "\n",
    "- A higher number of buyers are male, with females representing a minority. This difference is attributed to the categories on sale during Black Friday; evaluating a specific category may alter the gender distribution.\n",
    "- Seven categories are defined to classify the age of the buyers.\n",
    "- A majority of the buyers are reported to be single.\n",
    "- The occupation data shows that Occupation 8 has an extremely low count compared to the other categories. It can be excluded from the calculation as it is unlikely to significantly affect the results.\n",
    "- The majority of products belong to categories 1, 5, and 8. The low-count categories can be combined into a single category to reduce the complexity of the problem.\n",
    "- A higher count in City_Category likely indicates a greater population in urban areas.\n",
    "- Most buyers are observed to have lived in the city for one year, with the remaining categories showing a uniform distribution."
   ]
  },
  {
   "cell_type": "markdown",
   "id": "5227b20b-c750-40de-a134-67abc508df3f",
   "metadata": {},
   "source": [
    "### Categorical Features\n",
    "In this section, the focus will be on the categorical data, such as gender, age, and city category. Different types of charts will be used to illustrate how these categories relate to purchases. This will aid in understanding which categories have the most impact on purchasing behavior."
   ]
  },
  {
   "cell_type": "code",
   "execution_count": null,
   "id": "1bef1665-22b1-436c-82f0-be224d5b818b",
   "metadata": {},
   "outputs": [],
   "source": [
    "fig, axis = plt.subplots(nrows=2, ncols=2, figsize=(12, 10))\n",
    "fig.subplots_adjust(top=1.2)\n",
    "\n",
    "sns.boxplot(data=walmart_df, x=\"Occupation\", ax=axis[0,0])\n",
    "sns.boxplot(data=walmart_df, x=\"Stay_In_Current_City_Years\", orient='h', ax=axis[0,1])\n",
    "sns.boxplot(data=walmart_df, x=\"Purchase\", orient='h', ax=axis[1,0])\n",
    "\n",
    "\n",
    "plt.show()"
   ]
  },
  {
   "cell_type": "markdown",
   "id": "759d01f7-c296-4b4a-b50e-d4ff4b5caea7",
   "metadata": {},
   "source": [
    "### Purchase & Our Features"
   ]
  },
  {
   "cell_type": "code",
   "execution_count": null,
   "id": "851c599e-b238-43e5-8aa6-bdd535121125",
   "metadata": {},
   "outputs": [],
   "source": [
    "attrs = ['Gender', 'Age', 'Occupation', 'City_Category', 'Stay_In_Current_City_Years', 'Marital_Status', 'Product_Category']\n",
    "sns.set(color_codes = True)\n",
    "fig, axs = plt.subplots(nrows=3, ncols=2, figsize=(20, 16))\n",
    "fig.subplots_adjust(top=1.3)\n",
    "count = 0\n",
    "for row in range(3):\n",
    "    for col in range(2):\n",
    "        sns.boxplot(data=walmart_df, y='Purchase', x=attrs[count], ax=axs[row, col])\n",
    "        axs[row,col].set_title(f\"Purchase vs {attrs[count]}\", pad=12, fontsize=13)\n",
    "        count += 1\n",
    "plt.show()\n",
    "\n",
    "plt.figure(figsize=(10, 8))\n",
    "sns.boxplot(data=walmart_df, y='Purchase', x=attrs[-1])\n",
    "plt.show()"
   ]
  },
  {
   "cell_type": "code",
   "execution_count": null,
   "id": "afb8e39f-c4c0-42ca-96d5-4beb9e19aa5f",
   "metadata": {},
   "outputs": [],
   "source": [
    "sns.set(color_codes = True)\n",
    "fig, axs = plt.subplots(nrows=2, ncols=2, figsize=(20, 6))\n",
    "\n",
    "fig.subplots_adjust(top=1.5)\n",
    "sns.boxplot(data=walmart_df, y='Purchase', x='Gender', hue='Age', ax=axs[0,0])\n",
    "sns.boxplot(data=walmart_df, y='Purchase', x='Gender', hue='City_Category', ax=axs[0,1])\n",
    "\n",
    "sns.boxplot(data=walmart_df, y='Purchase', x='Gender', hue='Marital_Status', ax=axs[1,0])\n",
    "sns.boxplot(data=walmart_df, y='Purchase', x='Gender', hue='Stay_In_Current_City_Years', ax=axs[1,1])\n",
    "axs[1,1].legend(loc='upper left')\n",
    "\n",
    "plt.show()"
   ]
  },
  {
   "cell_type": "markdown",
   "id": "75b2cb3d-86d2-4f93-abfb-3ffee66c06c8",
   "metadata": {},
   "source": [
    "## Data Analysis"
   ]
  },
  {
   "cell_type": "markdown",
   "id": "45bce6d4-bf23-48e2-9455-0c6d4c21fcea",
   "metadata": {},
   "source": [
    "##### Do women spend per transactoin than men?"
   ]
  },
  {
   "cell_type": "code",
   "execution_count": null,
   "id": "f9838248-471d-4a51-a46c-9278ec05e8ea",
   "metadata": {},
   "outputs": [],
   "source": [
    "# Average amount spent per customer for Male and Female\n",
    "amt_df = walmart_df.groupby(['User_ID', 'Gender'])[['Purchase']].sum()\n",
    "avg_amt_df = amt_df.reset_index()\n",
    "avg_amt_df"
   ]
  },
  {
   "cell_type": "code",
   "execution_count": null,
   "id": "b96f7127-e07b-4d2b-8bf1-70c4cffaab34",
   "metadata": {},
   "outputs": [],
   "source": [
    "# Distribution of average amounts spent for male customers\n",
    "avg_amt_df[avg_amt_df['Gender']=='M']['Purchase'].hist(bins=100)\n",
    "plt.show()"
   ]
  },
  {
   "cell_type": "code",
   "execution_count": null,
   "id": "0d2b8dc6-84c1-432b-9287-3c92dc591268",
   "metadata": {},
   "outputs": [],
   "source": [
    "# Distribution of average amounts spent for female customers\n",
    "avg_amt_df[avg_amt_df['Gender']=='F']['Purchase'].hist(bins=100)\n",
    "plt.show()"
   ]
  },
  {
   "cell_type": "code",
   "execution_count": null,
   "id": "05985746-e9a3-4fc8-a686-25d9cdbb66b2",
   "metadata": {},
   "outputs": [],
   "source": [
    "male_avg = avg_amt_df[avg_amt_df['Gender'] == 'M']['Purchase'].mean()\n",
    "female_avg = avg_amt_df[avg_amt_df['Gender'] == 'F']['Purchase'].mean()\n",
    "\n",
    "print(f\"Average amount spent by male customers: {male_avg:.2f}\")\n",
    "print(f\"Average amount spent by female customers: {female_avg:.2f}\")\n"
   ]
  },
  {
   "cell_type": "markdown",
   "id": "5eb4445b-ecd4-48d4-b388-ef065abd6bde",
   "metadata": {},
   "source": [
    "##### Confidence intervals and the distribution of mean expenses for female and male customers."
   ]
  },
  {
   "cell_type": "code",
   "execution_count": null,
   "id": "e07ac707-efe6-4f8f-b89f-aae94bb7110c",
   "metadata": {},
   "outputs": [],
   "source": [
    "# Filtering data by gender\n",
    "male_df = avg_amt_df[avg_amt_df['Gender'] == 'M']\n",
    "female_df = avg_amt_df[avg_amt_df['Gender'] == 'F']\n",
    "\n",
    "# Defining sample sizes and number of repetitions\n",
    "male_sample_size = 3000\n",
    "female_sample_size = 1500\n",
    "num_repetitions = 1000\n",
    "\n",
    "# Initializing lists to store sample means\n",
    "male_means = []\n",
    "female_means = []\n",
    "\n",
    "# Performing bootstrapping and calculating means for each gender\n",
    "for _ in range(num_repetitions):\n",
    "    male_sample_mean = male_df.sample(male_sample_size, replace=True)['Purchase'].mean()\n",
    "    female_sample_mean = female_df.sample(female_sample_size, replace=True)['Purchase'].mean()\n",
    "    \n",
    "    male_means.append(male_sample_mean)\n",
    "    female_means.append(female_sample_mean)\n"
   ]
  },
  {
   "cell_type": "code",
   "execution_count": null,
   "id": "1d36c20c-9a8f-4699-af46-9a555b41716e",
   "metadata": {},
   "outputs": [],
   "source": [
    "fig, axis = plt.subplots(nrows=1, ncols=2, figsize=(20, 6))\n",
    "\n",
    "axis[0].hist(male_means, bins=100)\n",
    "axis[1].hist(female_means, bins=100)\n",
    "axis[0].set_title(\"Male - Distribution of Sample Means, Sample Size: 9500\")\n",
    "axis[1].set_title(\"Female - Distribution of Sample Means, Sample Size: 8500\")\n",
    "\n",
    "plt.show()\n",
    "\n",
    "# Displaying population mean (mean of sample means) for both genders\n",
    "print(\"\\n\")\n",
    "print(f\"Population mean for Male (Mean of Sample Means of Amount Spent): {np.mean(male_means):.2f}\")\n",
    "print(f\"Population mean for Female (Mean of Sample Means of Amount Spent): {np.mean(female_means):.2f}\")\n",
    "\n",
    "# Displaying sample statistics (mean and standard deviation) for both genders\n",
    "print(f\"\\nMale - Sample Mean: {male_df['Purchase'].mean():.2f}, Sample Std: {male_df['Purchase'].std():.2f}\")\n",
    "print(f\"Female - Sample Mean: {female_df['Purchase'].mean():.2f}, Sample Std: {female_df['Purchase'].std():.2f}\")\n"
   ]
  },
  {
   "cell_type": "code",
   "execution_count": null,
   "id": "9d13267f-3ceb-4748-92ea-c84be2223fcc",
   "metadata": {},
   "outputs": [],
   "source": [
    "# Function to calculate confidence intervals\n",
    "def calculate_confidence_interval(data, confidence_level):\n",
    "    z_score = norm.ppf((1 + confidence_level) / 2)  # Dynamically calculate z-score\n",
    "    sample_mean = data.mean()\n",
    "    sample_std = data.std()\n",
    "    sample_size = len(data)\n",
    "    margin_of_error = z_score * sample_std / np.sqrt(sample_size)\n",
    "    lower_limit = sample_mean - margin_of_error\n",
    "    upper_limit = sample_mean + margin_of_error\n",
    "    return lower_limit, upper_limit"
   ]
  },
  {
   "cell_type": "code",
   "execution_count": null,
   "id": "61de162f-7c5a-4938-b905-806eb1a48c3a",
   "metadata": {},
   "outputs": [],
   "source": [
    "# Defining confidence levels for the three cases\n",
    "confidence_levels = [0.90, 0.95, 0.99]\n",
    "\n",
    "for level in confidence_levels:\n",
    "    male_lower_lim, male_upper_lim = calculate_confidence_interval(male_df['Purchase'], level)\n",
    "    female_lower_lim, female_upper_lim = calculate_confidence_interval(female_df['Purchase'], level)\n",
    "    \n",
    "    print(f\"Confidence level {level * 100}%\")\n",
    "    print(\"Male confidence interval of means: ({:.2f}, {:.2f})\".format(male_lower_lim, male_upper_lim))\n",
    "    print(\"Female confidence interval of means: ({:.2f}, {:.2f})\".format(female_lower_lim, female_upper_lim))\n",
    "    print(\"\\n\")"
   ]
  },
  {
   "cell_type": "markdown",
   "id": "3e1f6820-8079-4d8e-9af9-b96120e1d458",
   "metadata": {},
   "source": [
    "##### Do the confidence intervals for average male and female spending overlap? How can Walmart utilize these insights to drive improvements or implement changes?\n",
    "\n",
    "The confidence intervals for average male and female spending do not overlap, indicating a significant difference. Walmart can leverage this by analyzing the broader population dataset with techniques like the Central Limit Theorem and varying confidence levels to tailor marketing strategies and optimize revenue."
   ]
  },
  {
   "cell_type": "markdown",
   "id": "94c4bfdf-d41e-429c-a1d6-a1519955497d",
   "metadata": {},
   "source": [
    "##### Outcomes of the same analysis conducted for Married versus Unmarried individuals"
   ]
  },
  {
   "cell_type": "code",
   "execution_count": null,
   "id": "8b09f6b7-0b4a-442b-ab63-b2cea3dc8f5a",
   "metadata": {},
   "outputs": [],
   "source": [
    "amt_df = walmart_df.groupby(['User_ID', 'Marital_Status'])[['Purchase']].sum()\n",
    "# transforming the group labels into columns for easier manipulation\n",
    "avg_amt_df = amt_df.reset_index()\n",
    "avg_amt_df"
   ]
  },
  {
   "cell_type": "code",
   "execution_count": null,
   "id": "6b67bbe8-ba38-4922-bda6-989436024204",
   "metadata": {},
   "outputs": [],
   "source": [
    "avg_amt_df['Marital_Status'].value_counts()"
   ]
  },
  {
   "cell_type": "code",
   "execution_count": null,
   "id": "ca8860a6-1f51-4014-9c03-dbba15ed3b8b",
   "metadata": {},
   "outputs": [],
   "source": [
    "sample_sizes = {'married': 3000, 'unmarried': 2000}\n",
    "\n",
    "num_repitions = 1000\n",
    "means = {'married': [], 'unmarried': []}\n",
    "\n",
    "for _ in range(num_repitions):\n",
    "    # Calculating the mean for both married and unmarried samples\n",
    "    for status, size in sample_sizes.items():\n",
    "        group_data = avg_amt_df[avg_amt_df['Marital_Status'] == (1 if status == 'married' else 0)]\n",
    "        mean_value = group_data.sample(size, replace=True)['Purchase'].mean()\n",
    "        means[status].append(mean_value)\n",
    "\n",
    "# Plotting the histograms for both groups\n",
    "fig, axis = plt.subplots(nrows=1, ncols=2, figsize=(20, 6))\n",
    "\n",
    "axis[0].hist(means['married'], bins=100)\n",
    "axis[1].hist(means['unmarried'], bins=100)\n",
    "axis[0].set_title(f\"Married - Distribution of means, Sample size: {sample_sizes['married']}\")\n",
    "axis[1].set_title(f\"Unmarried - Distribution of means, Sample size: {sample_sizes['unmarried']}\")\n",
    "\n",
    "plt.show()\n",
    "\n",
    "print(\"\\n\")\n",
    "print(f\"Population mean - Mean of sample means of amount spent for Married: {np.mean(means['married']):.2f}\")\n",
    "print(f\"Population mean - Mean of sample means of amount spent for Unmarried: {np.mean(means['unmarried']):.2f}\")\n",
    "\n",
    "# Sample statistics for both groups\n",
    "for status in ['married', 'unmarried']:\n",
    "    group_data = avg_amt_df[avg_amt_df['Marital_Status'] == (1 if status == 'married' else 0)]\n",
    "    print(f\"\\n{status.capitalize()} - Sample mean: {group_data['Purchase'].mean():.2f} Sample std: {group_data['Purchase'].std():.2f}\")\n"
   ]
  },
  {
   "cell_type": "code",
   "execution_count": null,
   "id": "a031ad30-7ba1-4471-9f9f-c95441b733cd",
   "metadata": {},
   "outputs": [],
   "source": [
    "# The list [0.90, 0.95, 0.99] for confidence levels was introduced earlier\n",
    "\n",
    "for val in [\"Married\", \"Unmarried\"]:\n",
    "    new_val = 1 if val == \"Married\" else 0\n",
    "    new_df = avg_amt_df[avg_amt_df['Marital_Status'] == new_val]\n",
    "    \n",
    "    for confidence_level in confidence_levels:\n",
    "        lower_lim, upper_lim = calculate_confidence_interval(new_df['Purchase'], confidence_level)\n",
    "        \n",
    "        print(f\"{val} - {int(confidence_level*100)}% confidence interval of means: ({lower_lim:.2f}, {upper_lim:.2f})\")"
   ]
  },
  {
   "cell_type": "markdown",
   "id": "56feabaa-ea67-4dcd-ad51-90ff12d6830e",
   "metadata": {},
   "source": [
    "##### Conducting the analysis for age\n",
    "Do spending patterns vary across age groups? Which age range does tend to spend more?"
   ]
  },
  {
   "cell_type": "code",
   "execution_count": null,
   "id": "3b6196b9-178b-4d86-90c8-18b071f3fefa",
   "metadata": {},
   "outputs": [],
   "source": [
    "amt_df = walmart_df.groupby(['User_ID', 'Age'])[['Purchase']].sum()\n",
    "# transforming the group labels into columns for easier manipulation\n",
    "avg_amt_df = amt_df.reset_index()\n",
    "avg_amt_df"
   ]
  },
  {
   "cell_type": "code",
   "execution_count": null,
   "id": "20b84451-fd8b-4cad-9c7d-c7ec4adeee40",
   "metadata": {},
   "outputs": [],
   "source": [
    "avg_amt_df['Age'].value_counts()"
   ]
  },
  {
   "cell_type": "code",
   "execution_count": null,
   "id": "fb09266a-7f92-4c25-b605-fcf2316804da",
   "metadata": {},
   "outputs": [],
   "source": [
    "age_intervals = ['26-35', '36-45', '18-25', '46-50', '51-55', '55+', '0-17']\n",
    "\n",
    "# Looping through age groups and calculating confidence intervals for each confidence level\n",
    "for age_interval in age_intervals:\n",
    "    new_df = avg_amt_df[avg_amt_df['Age'] == age_interval]\n",
    "    \n",
    "    print(f\"\\nFor age group {age_interval}:\")\n",
    "    for confidence_level in confidence_levels:\n",
    "        lower_lim, upper_lim = calculate_confidence_interval(new_df['Purchase'], confidence_level)\n",
    "        print(f\"Confidence Interval at {int(confidence_level*100)}%: ({lower_lim:.2f}, {upper_lim:.2f})\")"
   ]
  },
  {
   "cell_type": "markdown",
   "id": "1c92b014-8087-4528-b73e-c7a8e40a8d2e",
   "metadata": {},
   "source": [
    "## Insights"
   ]
  },
  {
   "cell_type": "markdown",
   "id": "48532db6-96e9-411e-b386-25553b8f9cc9",
   "metadata": {},
   "source": [
    "### So?\n",
    "\n",
    "- **Age Group Spending**: Customers in the 25-40 age range (26-35: 40%, 18-25: 18%, 36-45: 20%) contribute the highest spending, making up approximately 80% of total expenditure.\n",
    "\n",
    "- **Gender Spending**: Males account for 75% of purchases and spend more on average than females, highlighting their key role in overall sales.\n",
    "\n",
    "- **Marital Status Influence**: Single men spend more during sales events than married men, suggesting that marriage may reduce discretionary spending.\n",
    "\n",
    "- **City Tenure**: People who have lived in the city for one year tend to spend the most, while long-term residents show reduced spending, likely due to established lifestyles.\n",
    "\n",
    "- **City Category**: Although City B contributes most to overall sales, City C leads in specific product purchases, revealing regional preferences.\n",
    "\n",
    "- **Product Categories**: Categories 1, 5, 8, and 11 exhibit the highest purchasing frequency.\n",
    "\n",
    "- **Occupation Distribution**: A diverse consumer base is reflected in the data, showing a wide range of occupations.\n",
    "\n",
    "- **Confidence Intervals**: Confidence intervals support the analysis of spending patterns across various segments, revealing significant variations in purchasing behaviors.\n"
   ]
  },
  {
   "cell_type": "markdown",
   "id": "b35b5a15-6ba8-4716-97cc-24e68110f285",
   "metadata": {
    "jp-MarkdownHeadingCollapsed": true
   },
   "source": [
    "### Recommendations\n",
    "\n",
    "- **Female Customer Retention**: Since men spend more than women, the company should focus on retaining female customers and attracting new ones to balance spending across genders.\n",
    "\n",
    "- **Product Focus**: Product Categories 1, 5, 8, and 11 have the highest purchasing frequency, indicating strong customer preference. The company should either increase sales of these popular products or focus on promoting lesser-purchased items to diversify offerings.\n",
    "\n",
    "- **Married Customer Acquisition**: Unmarried customers spend more than married customers, suggesting that the company should target married individuals to boost spending.\n",
    "\n",
    "- **Age Group Expansion**: Customers aged 25-40 tend to spend more, so the company should focus on acquiring customers from other age groups to expand their customer base.\n",
    "\n",
    "- **Geographic Expansion**: With the highest population in Tier-2 City B, the company should consider opening more outlets in Tier-1 and Tier-2 cities like A and C to enhance business growth.\n"
   ]
  }
 ],
 "metadata": {
  "kernelspec": {
   "display_name": "Python 3 (ipykernel)",
   "language": "python",
   "name": "python3"
  },
  "language_info": {
   "codemirror_mode": {
    "name": "ipython",
    "version": 3
   },
   "file_extension": ".py",
   "mimetype": "text/x-python",
   "name": "python",
   "nbconvert_exporter": "python",
   "pygments_lexer": "ipython3",
   "version": "3.11.5"
  }
 },
 "nbformat": 4,
 "nbformat_minor": 5
}
